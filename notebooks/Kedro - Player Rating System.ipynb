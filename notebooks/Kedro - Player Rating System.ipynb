{
 "cells": [
  {
   "cell_type": "code",
   "execution_count": null,
   "id": "56d1e9da",
   "metadata": {},
   "outputs": [
    {
     "name": "stdout",
     "output_type": "stream",
     "text": [
      "Collecting kedro\n",
      "  Downloading kedro-0.18.10-py3-none-any.whl (275 kB)\n",
      "\u001b[K     |████████████████████████████████| 275 kB 1.6 MB/s eta 0:00:01\n",
      "\u001b[?25hCollecting toml~=0.10\n",
      "  Downloading toml-0.10.2-py2.py3-none-any.whl (16 kB)\n",
      "Collecting more-itertools~=9.0\n",
      "  Downloading more_itertools-9.1.0-py3-none-any.whl (54 kB)\n",
      "\u001b[K     |████████████████████████████████| 54 kB 624 kB/s eta 0:00:01\n",
      "\u001b[?25hCollecting pluggy~=1.0.0\n",
      "  Downloading pluggy-1.0.0-py2.py3-none-any.whl (13 kB)\n",
      "Collecting jmespath<1.0,>=0.9.5\n",
      "  Using cached jmespath-0.10.0-py2.py3-none-any.whl (24 kB)\n",
      "Collecting fsspec<2024.1,>=2021.4\n",
      "  Downloading fsspec-2023.6.0-py3-none-any.whl (163 kB)\n",
      "\u001b[K     |████████████████████████████████| 163 kB 617 kB/s eta 0:00:01\n",
      "\u001b[?25hCollecting rich<14.0,>=12.0\n",
      "  Downloading rich-13.4.2-py3-none-any.whl (239 kB)\n",
      "\u001b[K     |████████████████████████████████| 239 kB 146 kB/s eta 0:00:01\n",
      "\u001b[?25hCollecting build\n",
      "  Downloading build-0.10.0-py3-none-any.whl (17 kB)\n",
      "Collecting dynaconf<4.0,>=3.1.2\n",
      "  Downloading dynaconf-3.1.12-py2.py3-none-any.whl (211 kB)\n",
      "\u001b[K     |████████████████████████████████| 211 kB 171 kB/s eta 0:00:01\n",
      "\u001b[?25hRequirement already satisfied: importlib-resources>=1.3 in /home/vineeth/psidataenv/lib/python3.8/site-packages (from kedro) (5.12.0)\n",
      "Requirement already satisfied: PyYAML<7.0,>=4.2 in /home/vineeth/psidataenv/lib/python3.8/site-packages (from kedro) (6.0)\n"
     ]
    }
   ],
   "source": [
    "!pip install kedro"
   ]
  },
  {
   "cell_type": "code",
   "execution_count": 2,
   "id": "e891d77e",
   "metadata": {},
   "outputs": [],
   "source": [
    "import pandas as pd\n",
    "\n",
    "batsmen_performance_df = pd.read_csv('/home/vineeth/Documents/PSI - Data Scientist Test/batsmen_performance_data.csv')"
   ]
  },
  {
   "cell_type": "code",
   "execution_count": null,
   "id": "3ed5e592",
   "metadata": {},
   "outputs": [],
   "source": []
  }
 ],
 "metadata": {
  "kernelspec": {
   "display_name": "Python 3 (ipykernel)",
   "language": "python",
   "name": "python3"
  },
  "language_info": {
   "codemirror_mode": {
    "name": "ipython",
    "version": 3
   },
   "file_extension": ".py",
   "mimetype": "text/x-python",
   "name": "python",
   "nbconvert_exporter": "python",
   "pygments_lexer": "ipython3",
   "version": "3.8.10"
  }
 },
 "nbformat": 4,
 "nbformat_minor": 5
}
